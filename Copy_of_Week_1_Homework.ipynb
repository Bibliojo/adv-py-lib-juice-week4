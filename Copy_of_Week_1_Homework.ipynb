{
  "cells": [
    {
      "cell_type": "markdown",
      "metadata": {
        "id": "view-in-github",
        "colab_type": "text"
      },
      "source": [
        "<a href=\"https://colab.research.google.com/github/Bibliojo/adv-py-lib-juice-week4/blob/main/Copy_of_Week_1_Homework.ipynb\" target=\"_parent\"><img src=\"https://colab.research.google.com/assets/colab-badge.svg\" alt=\"Open In Colab\"/></a>"
      ]
    },
    {
      "cell_type": "markdown",
      "metadata": {
        "id": "5lPz1RZ7Muii"
      },
      "source": [
        " ### Student Name\n",
        "\n",
        "Please add your name to this markdown cell.\n",
        "Joanne Paterson"
      ]
    },
    {
      "cell_type": "markdown",
      "metadata": {
        "id": "ipUs60geMuij"
      },
      "source": [
        "## Submitting your homework!\n",
        "\n",
        "Two steps are required for this week's homework once you have completed it:\n",
        "\n",
        "- __Share__ this notebook with _libraryjuicepresspython@gmail.com_ so it can be marked in Colab\n",
        "- __Print as PDF__ and upload to the the week's homework submission location on the Library Juice Academy LMS"
      ]
    },
    {
      "cell_type": "markdown",
      "metadata": {
        "id": "SUifdSXoMuij"
      },
      "source": [
        "# Python for Librarians - Week 1 Homework\n",
        "\n",
        "\n",
        "\n",
        "## Welcome to Python\n",
        "\n",
        "\n",
        "Be sure to enable line numbers by looking for the 'gear' icon and checking the box in the 'Editor' panel.\n",
        "Be sure to save a copy of this notebook to your drive in the 'File' menu.\n",
        "\n",
        "We are going to be doing a mini data-analysis on some made up marks for a fictional student."
      ]
    },
    {
      "cell_type": "markdown",
      "metadata": {
        "id": "foZVqkLDMuij"
      },
      "source": [
        "### Q1\n",
        "\n",
        "Create a list variable in the following cell called `marks` that contains the following marks that a student got during a pretend semester of classes:\n",
        "\n",
        "- 80\n",
        "- 75\n",
        "- 85\n",
        "- 70\n",
        "- 60\n",
        "\n",
        "These marks should be represented as `real` values in the list. So that means each value should have a decimal point in it."
      ]
    },
    {
      "cell_type": "code",
      "execution_count": null,
      "metadata": {
        "id": "YRbdS61qMuik",
        "colab": {
          "base_uri": "https://localhost:8080/"
        },
        "outputId": "a4a9606b-5476-4e9e-b8e4-c98057966347"
      },
      "outputs": [
        {
          "output_type": "stream",
          "name": "stdout",
          "text": [
            "80.0\n",
            "75.0\n",
            "85.0\n",
            "70.0\n",
            "60.0\n"
          ]
        }
      ],
      "source": [
        "marks = [80.0, 75.0, 85.0, 70.0, 60.0, ]\n",
        "for number in marks:\n",
        "  print(number)\n"
      ]
    },
    {
      "cell_type": "markdown",
      "metadata": {
        "id": "KSKhBNFxMuik"
      },
      "source": [
        "### Q2\n",
        "\n",
        "Complete the code in the following cell to find the average (or mean) of our `marks` list by completing all of the details of the loop. You can answer with a `real` number that is the `%` out of 100\n",
        "\n",
        "Bonus: there is function called `len()` that will tell you how long a list variable is. if you can, try to use this in your answer. The next cell uses this as on an example."
      ]
    },
    {
      "cell_type": "code",
      "execution_count": null,
      "metadata": {
        "id": "U7peQzN_Muik",
        "colab": {
          "base_uri": "https://localhost:8080/"
        },
        "outputId": "0bdd9e0c-ee5e-402b-9358-3d5d8998815f"
      },
      "outputs": [
        {
          "output_type": "stream",
          "name": "stdout",
          "text": [
            "3\n"
          ]
        }
      ],
      "source": [
        "#example of len()\n",
        "eg = [1, 2, 3]\n",
        "\n",
        "print(len(eg))"
      ]
    },
    {
      "cell_type": "code",
      "execution_count": null,
      "metadata": {
        "id": "95pILX6RMuik",
        "colab": {
          "base_uri": "https://localhost:8080/"
        },
        "outputId": "8fa28447-fd1e-4755-f6fa-81084944325a"
      },
      "outputs": [
        {
          "output_type": "stream",
          "name": "stdout",
          "text": [
            "370.0\n",
            "your average is:  74.0\n"
          ]
        }
      ],
      "source": [
        "\n",
        "#We enter these values as `reals` by including the decimal 0\n",
        "marks = {\n",
        "    \"quiz1\" : 80.0,\n",
        "    \"quiz2\" : 75.0,\n",
        "    \"quiz3\" : 85.0,\n",
        "    \"quiz4\" : 70.0,\n",
        "    \"quiz5\" : 60.0,\n",
        "    }\n",
        "\n",
        "total_marks = 0.0\n",
        "for quiz_total in marks.values():\n",
        "  total_marks = total_marks + quiz_total\n",
        "print(total_marks)\n",
        "average = total_marks / (len(marks))\n",
        "\n",
        "print(\"your average is: \",average)\n",
        "\n",
        "\n",
        "\n",
        "\n"
      ]
    },
    {
      "cell_type": "markdown",
      "metadata": {
        "id": "g0rBlOsjMuil"
      },
      "source": [
        "### Q3\n",
        "\n",
        "We are writing a feedback script that loops through `marks`\n",
        "\n",
        "- Modify the following code to print to the screen `Good Job` if a mark is equal to or above above 80.\n"
      ]
    },
    {
      "cell_type": "code",
      "execution_count": null,
      "metadata": {
        "id": "EKULVQT-Muil",
        "colab": {
          "base_uri": "https://localhost:8080/"
        },
        "outputId": "be12fae9-7e8d-4795-b97c-d82e0a836bea"
      },
      "outputs": [
        {
          "output_type": "stream",
          "name": "stdout",
          "text": [
            "Good Job!\n",
            "Good Job!\n"
          ]
        }
      ],
      "source": [
        "for quiz in marks:\n",
        "  grade = marks[quiz]\n",
        "  if grade >=80.0:\n",
        "    print(\"Good Job!\")\n",
        "\n"
      ]
    },
    {
      "cell_type": "markdown",
      "metadata": {
        "id": "JEQVkMp9Muil"
      },
      "source": [
        "### Q4\n",
        "\n",
        "Let's extend our feedback script a bit.\n",
        "\n",
        "- Modify it so that it prints `Good Job` if a mark is equal to or above 80\n",
        "- and it prints `Better Luck Next Time` if the mark is lower than 80."
      ]
    },
    {
      "cell_type": "code",
      "execution_count": null,
      "metadata": {
        "id": "8uXzScc-Muil",
        "colab": {
          "base_uri": "https://localhost:8080/"
        },
        "outputId": "b5e2c474-1277-4c7a-93f7-eca1d18766ed"
      },
      "outputs": [
        {
          "output_type": "stream",
          "name": "stdout",
          "text": [
            "Good Job\n",
            "Better Luck Next Time\n",
            "Good Job\n",
            "Better Luck Next Time\n",
            "Better Luck Next Time\n"
          ]
        }
      ],
      "source": [
        "for quiz in marks:\n",
        "  grade = marks[quiz]\n",
        "  if grade >=80.0:\n",
        "    print(\"Good Job\")\n",
        "  else:\n",
        "    print (\"Better Luck Next Time\")\n"
      ]
    },
    {
      "cell_type": "markdown",
      "metadata": {
        "id": "2YkcTlXIMuil"
      },
      "source": [
        "### Q5\n",
        "\n",
        "Let's extend our feedback script some more.\n",
        "\n",
        "- Modify it so that it prints `Good Job` if a mark is equal to or above 80\n",
        "- and it prints `Better Luck Next Time` if the mark is lower than 80 and higher than 60.\n",
        "- and it prints `Please see me after class` if the mark is 60 or lower"
      ]
    },
    {
      "cell_type": "code",
      "execution_count": null,
      "metadata": {
        "id": "usJlUzq7Muil",
        "colab": {
          "base_uri": "https://localhost:8080/"
        },
        "outputId": "ddfe6619-24e0-47b2-aff3-3d245e655b5e"
      },
      "outputs": [
        {
          "output_type": "stream",
          "name": "stdout",
          "text": [
            "Good Job!\n",
            "Better Luck Next Time\n",
            "Good Job!\n",
            "Better Luck Next Time\n",
            "Please see me after class\n"
          ]
        }
      ],
      "source": [
        "for quiz in marks:\n",
        "  grade = marks[quiz]\n",
        "  if grade >=80.0:\n",
        "    print(\"Good Job!\")\n",
        "  elif grade >60 <80:\n",
        "    print (\"Better Luck Next Time\")\n",
        "  elif grade <=60:\n",
        "    print(\"Please see me after class\")"
      ]
    },
    {
      "cell_type": "markdown",
      "metadata": {
        "id": "cc8QoKEuMuil"
      },
      "source": [
        "### Q6\n",
        "\n",
        "In our discussion of conditionals we discovered that if we want to compare if two things are the same we use the `==` operator. In the markdown cell belows please explain why we need to use `==` instead of `=`"
      ]
    },
    {
      "cell_type": "markdown",
      "metadata": {
        "id": "zUCjUuxLMuil"
      },
      "source": [
        "We use the == operator instead because ..."
      ]
    },
    {
      "cell_type": "markdown",
      "source": [
        "cribbed from the web: \"write what you mean. If you\n",
        "mean equality, use ==. If you mean identity, use is'\"--Cameron Simpson\n",
        "https://discuss.python.org/t/why-equality-comparison-does-not-check-first-for-identity/24656/3\n",
        "\n",
        "\"The == operator compares the value or equality of two objects, whereas the Python is operator checks whether two variables point to the same object in memory. In the vast majority of cases, this means you should use the equality operators == and !=, except when you’re comparing to None.\"\n",
        "https://realpython.com/python-is-identity-vs-equality/#:~:text=The%20%3D%3D%20operator%20compares%20the,equality%20operators%20%3D%3D%20and%20!%3D"
      ],
      "metadata": {
        "id": "ZNxhLiwpxyZD"
      }
    },
    {
      "cell_type": "markdown",
      "metadata": {
        "id": "0QDt_IyCMuil"
      },
      "source": [
        "### Q7\n",
        "\n",
        "Let's make our list of `marks` into dictionary called `semester` so we can add more details to it. Run the following cell to do this."
      ]
    },
    {
      "cell_type": "code",
      "execution_count": null,
      "metadata": {
        "id": "vPxhr7qjMuil",
        "colab": {
          "base_uri": "https://localhost:8080/"
        },
        "outputId": "b86f6857-6387-48cf-bc2e-451eda471f41"
      },
      "outputs": [
        {
          "output_type": "stream",
          "name": "stdout",
          "text": [
            "Marks:\n",
            "80.0\n",
            "75.0\n",
            "85.0\n",
            "70.0\n",
            "60.0\n",
            "\n",
            "Class Names:\n",
            "Calculus\n",
            "Algebra\n",
            "Stats\n",
            "History\n",
            "English\n"
          ]
        }
      ],
      "source": [
        "\n",
        "semester = {\n",
        "    'Calculus':80.0,\n",
        "    'Algebra':75.0,\n",
        "    'Stats': 85.0,\n",
        "    'History':70.0,\n",
        "    'English':60.0\n",
        "}\n",
        "\n",
        "print(\"Marks:\")\n",
        "for mark in semester.values():\n",
        "    print(mark)\n",
        "\n",
        "print(\"\")\n",
        "print(\"Class Names:\")\n",
        "for name in semester.keys():\n",
        "    print(name)"
      ]
    },
    {
      "cell_type": "markdown",
      "metadata": {
        "id": "xWx_W7hcMuil"
      },
      "source": [
        "\n",
        "Let's modify our print out of information so that the marks match up with the class name. So that it looks like the following:\n",
        "\n",
        "`Calculus -> 80,0`\n",
        "\n",
        "\n",
        "We need to use the `[]` notation to get the `course_mark` by looking it up in the dictionary. You need to modify line 1, 2 & 3. Check out _Question 14_ in the _Workalong Notebook_ if you need more help."
      ]
    },
    {
      "cell_type": "code",
      "execution_count": null,
      "metadata": {
        "scrolled": true,
        "id": "nv3CSUrtMuil",
        "colab": {
          "base_uri": "https://localhost:8080/"
        },
        "outputId": "9a039e73-a63c-4b96-921b-c5f8c3a509da"
      },
      "outputs": [
        {
          "output_type": "stream",
          "name": "stdout",
          "text": [
            "Calculus  ->  80.0\n",
            "Algebra  ->  75.0\n",
            "Stats  ->  85.0\n",
            "History  ->  70.0\n",
            "English  ->  60.0\n"
          ]
        }
      ],
      "source": [
        "for course in semester:\n",
        "    course_mark = semester[course]\n",
        "    print(course, \" -> \", course_mark)\n",
        "\n",
        "\n"
      ]
    },
    {
      "cell_type": "markdown",
      "metadata": {
        "id": "Qb8WuAPIMuil"
      },
      "source": [
        "### Q8\n",
        "\n",
        "As the theme of this class is an introduction to analysis of data, in the cell below reflect on the marks that the student received. What can you say about this student?"
      ]
    },
    {
      "cell_type": "markdown",
      "metadata": {
        "id": "RdzXkOemMuil"
      },
      "source": [
        "My impression of this student is...they are someone for whom English is a seoncd or third language, and they are very good at maths and logical thinking!"
      ]
    },
    {
      "cell_type": "markdown",
      "metadata": {
        "id": "q6c4ZhTWMuim"
      },
      "source": [
        "\n",
        "\n",
        "## Congrats!\n",
        "\n",
        "You've completed your first assignment for the class. Please 'Print' as a PDF and upload it to the Library Juice Academy LMS.\n",
        "\n",
        "Also click the **Share** button above and enter `libraryjuicepresspython@gmail.com` so this can be marked in Colab.\n",
        "\n",
        "Remember also to make your forum post."
      ]
    }
  ],
  "metadata": {
    "kernelspec": {
      "display_name": "Python 3 (ipykernel)",
      "language": "python",
      "name": "python3"
    },
    "language_info": {
      "codemirror_mode": {
        "name": "ipython",
        "version": 3
      },
      "file_extension": ".py",
      "mimetype": "text/x-python",
      "name": "python",
      "nbconvert_exporter": "python",
      "pygments_lexer": "ipython3",
      "version": "3.11.5"
    },
    "colab": {
      "provenance": [],
      "include_colab_link": true
    }
  },
  "nbformat": 4,
  "nbformat_minor": 0
}